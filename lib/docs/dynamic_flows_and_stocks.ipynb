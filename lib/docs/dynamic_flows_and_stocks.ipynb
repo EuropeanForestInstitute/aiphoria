{
 "cells": [
  {
   "cell_type": "markdown",
   "source": [
    "### Load ODYM"
   ],
   "metadata": {
    "collapsed": false
   }
  },
  {
   "cell_type": "code",
   "execution_count": 143,
   "outputs": [],
   "source": [
    "import sys\n",
    "import os\n",
    "import numpy as np\n",
    "import pandas as pd\n",
    "import matplotlib.pyplot as plt\n",
    "import pickle\n",
    "import openpyxl\n",
    "import pylab\n",
    "\n",
    "# Specify path to dynamic stock model and to datafile, relative\n",
    "MainPath = os.path.join('..', 'odym', 'modules')\n",
    "DataPath = os.path.join('..', 'docs', 'files')\n",
    "sys.path.insert(0, MainPath)\n",
    "\n",
    "# add ODYM module directory to system path, absolute\n",
    "sys.path.insert(0, os.path.join(os.getcwd(), '..', 'odym', 'modules'))\n",
    "sys.path.insert(0, os.path.join(os.getcwd(), '..', 'docs', 'files'))\n",
    "\n",
    "# Import ODYM files\n",
    "import ODYM_Classes as msc  # import the ODYM class file\n",
    "import ODYM_Functions as msf  # import the ODYM function file\n",
    "import dynamic_stock_model as dsm  # import the dynamic stock model library\n",
    "\n",
    "\n"
   ],
   "metadata": {
    "collapsed": false,
    "ExecuteTime": {
     "end_time": "2023-06-22T06:33:55.668796900Z",
     "start_time": "2023-06-22T06:33:55.572422100Z"
    }
   }
  },
  {
   "cell_type": "markdown",
   "source": [
    "### Define MFA system"
   ],
   "metadata": {
    "collapsed": false
   }
  },
  {
   "cell_type": "code",
   "execution_count": 144,
   "outputs": [],
   "source": [
    "# Make list of years\n",
    "year_start = 2000\n",
    "year_end = 2010\n",
    "years = list(np.arange(year_start, year_end))\n",
    "\n",
    "model_classification = dict()\n",
    "\n",
    "# Classification for time labelled 'Time' must always be present, with Items containing a list of odered integers representing years, months, or other discrete time intervals\n",
    "model_classification['Time'] = msc.Classification(Name='Time', Dimension='Time', ID=1, Items=years)\n",
    "\n",
    "# Classification for elements labelled 'Element' must always be present, with Items containing a list of the symbols of the elements covered.\n",
    "# Now track only carbon (C)\n",
    "model_classification['Element'] = msc.Classification(Name='Elements', Dimension='Element', ID=2, Items=['C'])\n",
    "\n",
    "# Get model time start, end, and duration:\n",
    "model_time_start = int(min(model_classification['Time'].Items))\n",
    "model_time_end = int(max(model_classification['Time'].Items))\n",
    "model_duration = model_time_end - model_time_start"
   ],
   "metadata": {
    "collapsed": false,
    "ExecuteTime": {
     "end_time": "2023-06-22T06:33:55.668796900Z",
     "start_time": "2023-06-22T06:33:55.605842900Z"
    }
   }
  },
  {
   "cell_type": "code",
   "execution_count": 145,
   "outputs": [],
   "source": [
    "index_table = pd.DataFrame({'Aspect': ['Time', 'Element'],  # 'Time' and 'Element' must be present!\n",
    "                            'Description': ['Model aspect \"time\"', 'Model aspect \"Element\"'],\n",
    "                            'Dimension': ['Time', 'Element'],  # 'Time' and 'Element' are also dimensions\n",
    "                            'Classification': [model_classification[Aspect] for Aspect in ['Time', 'Element']],\n",
    "                            'IndexLetter': ['t',\n",
    "                                            'e']})  # Unique one letter (upper or lower case) indices to be used later for calculations.\n",
    "\n",
    "# Default indexing of IndexTable, other indices are produced on the fly\n",
    "index_table.set_index('Aspect', inplace=True)\n",
    "#index_table"
   ],
   "metadata": {
    "collapsed": false,
    "ExecuteTime": {
     "end_time": "2023-06-22T06:33:55.668796900Z",
     "start_time": "2023-06-22T06:33:55.618112500Z"
    }
   }
  },
  {
   "cell_type": "code",
   "execution_count": 146,
   "outputs": [],
   "source": [
    "mfa_system = msc.MFAsystem(Name='Sawnwood system',\n",
    "                           Geogr_Scope='Europe',\n",
    "                           Unit='kt',\n",
    "                           ProcessList=[],\n",
    "                           FlowDict={},\n",
    "                           StockDict={},\n",
    "                           ParameterDict={},\n",
    "                           Time_Start=model_time_start,\n",
    "                           Time_End=model_time_end,\n",
    "                           IndexTable=index_table,\n",
    "                           Elements=index_table.loc['Element'].Classification.Items)  # Initialize MFA system"
   ],
   "metadata": {
    "collapsed": false,
    "ExecuteTime": {
     "end_time": "2023-06-22T06:33:55.689011900Z",
     "start_time": "2023-06-22T06:33:55.638425200Z"
    }
   }
  },
  {
   "cell_type": "code",
   "execution_count": 147,
   "outputs": [],
   "source": [
    "# Start with empty process list, only process numbers (IDs) and names are needed.\n",
    "mfa_system.ProcessList = []\n",
    "mfa_system.ProcessList.append(msc.Process(Name='Semifinished wood products - outside system boundary', ID=0))\n",
    "mfa_system.ProcessList.append(msc.Process(Name='Wood product production, coniferous', ID=1))\n",
    "mfa_system.ProcessList.append(msc.Process(Name='Wood product production, non-coniferous', ID=2))\n",
    "mfa_system.ProcessList.append(msc.Process(Name='Value added market 1', ID=3))\n",
    "mfa_system.ProcessList.append(msc.Process(Name='Value added market 2', ID=3))\n",
    "mfa_system.ProcessList.append(msc.Process(Name='Value added market 3', ID=3))"
   ],
   "metadata": {
    "collapsed": false,
    "ExecuteTime": {
     "end_time": "2023-06-22T06:33:55.689011900Z",
     "start_time": "2023-06-22T06:33:55.658714Z"
    }
   }
  },
  {
   "cell_type": "code",
   "execution_count": 150,
   "outputs": [],
   "source": [
    "# Parameters\n",
    "# Consumption values per year\n",
    "placeholders = []\n",
    "for index in range(model_duration):\n",
    "    new_val = index + 100\n",
    "    new_val *= index * 1.03\n",
    "    placeholders.append(new_val)\n",
    "\n",
    "# Total consumption per year, kt/year\n",
    "values_total_consumption_per_year = np.array(placeholders)\n",
    "\n",
    "# Composition of elements in consumption, now track only carbon\n",
    "# This could be per process composition if needed\n",
    "composition_total_consumption = np.array([1.0])\n",
    "\n",
    "# Shares\n",
    "\n",
    "# Yield_Par_Shredder   = np.array([0.92,0.1,0.92]) # Yield for EoL Machine into scrap: Fe: 92%, Cu: 10%, Mn: 92%.\n",
    "# Yield_Par_Demolition = np.array([0.95,0.02,0.95]) # Yield for EoL Building into scrap: Fe: 95%, Cu: 2%, Mn: 95%.\n",
    "# Yield_Par_Remelting  = np.array([0.96,1,0.5]) # Yield for EoL Machine into scrap: Fe: 96%, Cu: 100%, Mn: 50%.\n",
    "\n",
    "# ParameterDict = {}\n",
    "#\n",
    "# # Define parameters for inflow of EoL machines and buildings with indices 'te' (years x element) and matching time series Values (array with size 31 x 3).\n",
    "# # In a more advanced setup the parameters are defined in a data template and then read into the software.\n",
    "# ParameterDict['F_0_1']  = msc.Parameter(Name = 'Inflow_Eol_Machines', ID = 1, P_Res = 1,\n",
    "#                                         MetaData = None, Indices = 'te',\n",
    "#                                         Values = np.einsum('t,e->te',Values_Par_EoL_Machines,Composition_Par_EoL_Machines),\n",
    "#                                         Unit = 'kt/yr')\n",
    "# ParameterDict['F_0_2']  = msc.Parameter(Name = 'Inflow_Eol_Buildings', ID = 2, P_Res = 2,\n",
    "#                                         MetaData = None, Indices = 'te',\n",
    "#                                         Values = np.einsum('t,e->te',Values_Par_EoL_Buildings,Composition_Par_EoL_Buildings),\n",
    "#                                         Unit = 'kt/yr')\n",
    "#\n",
    "# # Define parameter yield (gamma) with index 'e' (element) and matching time series Values(array with size 3).\n",
    "# # In a more advanced setup the parameters are defined in a data template and then read into the software.\n",
    "# ParameterDict['Gamma_1'] = msc.Parameter(Name = 'Shredding yield',  ID = 3, P_Res = 1,\n",
    "#                                          MetaData = None, Indices = 'e',\n",
    "#                                          Values = Yield_Par_Shredder, Unit = '1')\n",
    "# ParameterDict['Gamma_2'] = msc.Parameter(Name = 'Demolition yield', ID = 4, P_Res = 2,\n",
    "#                                          MetaData = None, Indices = 'e',\n",
    "#                                          Values = Yield_Par_Demolition, Unit = '1')\n",
    "# ParameterDict['Gamma_3'] = msc.Parameter(Name = 'Remelting yield',  ID = 5, P_Res = 3,\n",
    "#                                          MetaData = None, Indices = 'e',\n",
    "#                                          Values = Yield_Par_Remelting, Unit = '1')\n",
    "#\n",
    "# # Assign parameter dictionary to MFA system:\n",
    "# Dyn_MFA_System.ParameterDict = ParameterDict"
   ],
   "metadata": {
    "collapsed": false,
    "ExecuteTime": {
     "end_time": "2023-06-22T06:34:10.741817Z",
     "start_time": "2023-06-22T06:34:10.731847600Z"
    }
   }
  },
  {
   "cell_type": "code",
   "execution_count": 148,
   "outputs": [],
   "source": [],
   "metadata": {
    "collapsed": false,
    "ExecuteTime": {
     "end_time": "2023-06-22T06:33:55.758817Z",
     "start_time": "2023-06-22T06:33:55.699183300Z"
    }
   }
  }
 ],
 "metadata": {
  "kernelspec": {
   "display_name": "Python 3",
   "language": "python",
   "name": "python3"
  },
  "language_info": {
   "codemirror_mode": {
    "name": "ipython",
    "version": 2
   },
   "file_extension": ".py",
   "mimetype": "text/x-python",
   "name": "python",
   "nbconvert_exporter": "python",
   "pygments_lexer": "ipython2",
   "version": "2.7.6"
  }
 },
 "nbformat": 4,
 "nbformat_minor": 0
}
