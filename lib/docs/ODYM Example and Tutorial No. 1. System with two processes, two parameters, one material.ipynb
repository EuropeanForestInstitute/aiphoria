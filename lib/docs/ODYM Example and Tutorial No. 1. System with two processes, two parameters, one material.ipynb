{
 "cells": [
  {
   "cell_type": "markdown",
   "source": [
    "# ODYM Example no. 1.  System with two processes, two parameters, one material.\n",
    "\n",
    "A simple MFA system with one material (represented by the indicator element carbon 'C'), a time horizon of 30 years [1980-2010], two processes, and a time-dependent parameter is analysed.\n",
    "\n",
    "<img src=\"Images/MFAExample1.png\" width=\"404\" height=\"490\" alt=\"Simple MFA system\">\n",
    "\n",
    "\n",
    "The model equations are as follows:\n",
    "+ $a(t) = D(t)$ (exogenous input flow)\n",
    "+ $d(t) = \\alpha (t)\\cdot b(t)$ (recovery efficiency parameter)\n",
    "+ $a(t) +d(t) = b(t) $ (mass balance process 1)\n",
    "+ $b(t) = c(t) + d(t) $ (mass balance process 2)\n",
    "\n",
    "From these equations the system solution follows:\n",
    "+ $c(t) = a(t) = D(t)$\n",
    "+ $b(t) = \\frac{1}{1-\\alpha (t)}\\cdot D(t)$\n",
    "+ $c(t) = \\frac{\\alpha}{1-\\alpha (t)}\\cdot D(t)$\n",
    "\n",
    "We will now programm this solution into ODYM. That is overkill, as ODYM was developed for handling much more complex MFA systems, but instructive.\n",
    "\n",
    "\n",
    "### 1) Load ODYM\n"
   ],
   "metadata": {
    "collapsed": false
   }
  },
  {
   "cell_type": "code",
   "execution_count": 1,
   "metadata": {
    "ExecuteTime": {
     "end_time": "2023-06-26T10:49:28.052838800Z",
     "start_time": "2023-06-26T10:49:23.103864500Z"
    }
   },
   "outputs": [],
   "source": [
    "# Load a local copy of the current ODYM branch:\n",
    "import sys, os\n",
    "import numpy as np\n",
    "import pandas as pd\n",
    "import matplotlib.pyplot as plt\n",
    "import pickle\n",
    "\n",
    "# For Ipython Notebook only\n",
    "%matplotlib inline\n",
    "\n",
    "sys.path.insert(0, os.path.join('..', 'odym', 'modules')) # add ODYM module directory to system path, relative\n",
    "sys.path.insert(0, os.path.join(os.getcwd(),'..', 'odym', 'modules')) # add ODYM module directory to system path, absolute\n",
    "import ODYM_Classes as msc # import the ODYM class file\n",
    "import ODYM_Functions as msf # import the ODYM function file\n",
    "import dynamic_stock_model as dsm # import the dynamic stock model library"
   ]
  },
  {
   "cell_type": "markdown",
   "metadata": {},
   "source": [
    "### 2) Define MFA system \n",
    "With the model imported, we cannow set up the system definition. The 'classical' elements of the system definition in MFA include: The processes, flows, and stocks, the material, the region, and the time frame studied. Next to these elements, ODYM features/requires the following elements to be specified:\n",
    "+ The list of chemical elements considered\n",
    "+ The classification(s) of the system variables (stocks and flows): Which materials, products, regions, or waste groups are considered?\n",
    "+ An index letter to quickly/directly access a model aspect.\n",
    "+ A dictionary of model parameters\n",
    "\n",
    "For all these items ODYM has a specific structure, which is used below.\n",
    "\n",
    "First, we define a classification of all objects flowing. In this example we conduct a 'classical' dynamic MFA with just one material/chemical element/indicator element considered, and our classification can therefore be as simple as possible: it contains only one chemical element, in this case, we choose carbon ('C'):"
   ]
  },
  {
   "cell_type": "code",
   "execution_count": 2,
   "metadata": {
    "ExecuteTime": {
     "end_time": "2023-06-26T10:49:28.067023700Z",
     "start_time": "2023-06-26T10:49:28.051839900Z"
    }
   },
   "outputs": [],
   "source": [
    "ModelClassification  = {} # Create dictionary of model classifications\n",
    "\n",
    "ModelClassification['Time'] = msc.Classification(Name = 'Time', Dimension = 'Time', ID = 1, \n",
    "                                                 Items = list(np.arange(1980,2011)))\n",
    "\n",
    "# Classification for time labelled 'Time' must always be present, \n",
    "# with Items containing a list of odered integers representing years, months, or other discrete time intervals\n",
    "\n",
    "ModelClassification['Element'] = msc.Classification(Name = 'Elements', Dimension = 'Element', ID = 2, \n",
    "                                                    Items = ['C'])\n",
    "\n",
    "# Classification for elements labelled 'Element' must always be present, \n",
    "# with Items containing a list of the symbols of the elements covered.\n",
    "\n",
    "# Get model time start, end, and duration:\n",
    "Model_Time_Start = int(min(ModelClassification['Time'].Items))\n",
    "Model_Time_End = int(max(ModelClassification['Time'].Items))\n",
    "Model_Duration = Model_Time_End - Model_Time_Start"
   ]
  },
  {
   "cell_type": "markdown",
   "metadata": {},
   "source": [
    "That dictionary of classifications enteres the index table defined for the system. The indext table lists all aspects needed and assigns a classification and index letter to each aspect."
   ]
  },
  {
   "cell_type": "code",
   "execution_count": 3,
   "metadata": {
    "ExecuteTime": {
     "end_time": "2023-06-26T10:49:28.107688300Z",
     "start_time": "2023-06-26T10:49:28.067023700Z"
    }
   },
   "outputs": [
    {
     "data": {
      "text/plain": "                    Description Dimension  \\\nAspect                                      \nTime        Model aspect \"time\"      Time   \nElement  Model aspect \"Element\"   Element   \n\n                                            Classification IndexLetter  \nAspect                                                                  \nTime     <ODYM_Classes.Classification object at 0x00000...           t  \nElement  <ODYM_Classes.Classification object at 0x00000...           e  ",
      "text/html": "<div>\n<style scoped>\n    .dataframe tbody tr th:only-of-type {\n        vertical-align: middle;\n    }\n\n    .dataframe tbody tr th {\n        vertical-align: top;\n    }\n\n    .dataframe thead th {\n        text-align: right;\n    }\n</style>\n<table border=\"1\" class=\"dataframe\">\n  <thead>\n    <tr style=\"text-align: right;\">\n      <th></th>\n      <th>Description</th>\n      <th>Dimension</th>\n      <th>Classification</th>\n      <th>IndexLetter</th>\n    </tr>\n    <tr>\n      <th>Aspect</th>\n      <th></th>\n      <th></th>\n      <th></th>\n      <th></th>\n    </tr>\n  </thead>\n  <tbody>\n    <tr>\n      <th>Time</th>\n      <td>Model aspect \"time\"</td>\n      <td>Time</td>\n      <td>&lt;ODYM_Classes.Classification object at 0x00000...</td>\n      <td>t</td>\n    </tr>\n    <tr>\n      <th>Element</th>\n      <td>Model aspect \"Element\"</td>\n      <td>Element</td>\n      <td>&lt;ODYM_Classes.Classification object at 0x00000...</td>\n      <td>e</td>\n    </tr>\n  </tbody>\n</table>\n</div>"
     },
     "execution_count": 3,
     "metadata": {},
     "output_type": "execute_result"
    }
   ],
   "source": [
    "IndexTable = pd.DataFrame({'Aspect'        : ['Time','Element'], # 'Time' and 'Element' must be present!\n",
    "                           'Description'   : ['Model aspect \"time\"', 'Model aspect \"Element\"'],\n",
    "                           'Dimension'     : ['Time','Element'], # 'Time' and 'Element' are also dimensions\n",
    "                           'Classification': [ModelClassification[Aspect] for Aspect in ['Time','Element']],\n",
    "                           'IndexLetter'   : ['t','e']}) # Unique one letter (upper or lower case) indices to be used later for calculations.\n",
    "\n",
    "# Default indexing of IndexTable, other indices are produced on the fly\n",
    "IndexTable.set_index('Aspect', inplace = True) \n",
    "\n",
    "IndexTable"
   ]
  },
  {
   "cell_type": "markdown",
   "metadata": {},
   "source": [
    "We can now define our MFA system: "
   ]
  },
  {
   "cell_type": "code",
   "execution_count": 4,
   "metadata": {
    "ExecuteTime": {
     "end_time": "2023-06-26T10:49:28.112683900Z",
     "start_time": "2023-06-26T10:49:28.104684900Z"
    }
   },
   "outputs": [],
   "source": [
    "Dyn_MFA_System = msc.MFAsystem(Name = 'TestSystem', \n",
    "                      Geogr_Scope = 'TestRegion', \n",
    "                      Unit = 'Mt', \n",
    "                      ProcessList = [], \n",
    "                      FlowDict = {}, \n",
    "                      StockDict = {},\n",
    "                      ParameterDict = {}, \n",
    "                      Time_Start = Model_Time_Start, \n",
    "                      Time_End = Model_Time_End, \n",
    "                      IndexTable = IndexTable, \n",
    "                      Elements = IndexTable.loc['Element'].Classification.Items) # Initialize MFA system"
   ]
  },
  {
   "cell_type": "markdown",
   "metadata": {},
   "source": [
    "This system has a name, a geographical scope, a system-wide unit, a time frame, an index table with all aspects defined, and a list of chemical elements considered.\n",
    "\n",
    "### 3) Inserting data into the MFA system\n",
    "\n",
    "It is lacking a list of processes, stocks, flows, and parameters, and these are now defined and inserted into the system:"
   ]
  },
  {
   "cell_type": "code",
   "execution_count": 5,
   "metadata": {
    "ExecuteTime": {
     "end_time": "2023-06-26T10:49:28.162684500Z",
     "start_time": "2023-06-26T10:49:28.114687100Z"
    }
   },
   "outputs": [
    {
     "data": {
      "text/plain": "[<ODYM_Classes.Process at 0x1275c5ae940>,\n <ODYM_Classes.Process at 0x1275c5aec10>,\n <ODYM_Classes.Process at 0x1275c5aeaf0>]"
     },
     "execution_count": 5,
     "metadata": {},
     "output_type": "execute_result"
    }
   ],
   "source": [
    "Dyn_MFA_System.ProcessList = [] # Start with empty process list, only process numbers (IDs) and names are needed.\n",
    "Dyn_MFA_System.ProcessList.append(msc.Process(Name = 'Environment', ID   = 0))\n",
    "Dyn_MFA_System.ProcessList.append(msc.Process(Name = 'Process 1'  , ID   = 1))\n",
    "Dyn_MFA_System.ProcessList.append(msc.Process(Name = 'Process 2'  , ID   = 2))\n",
    "\n",
    "# Print list of processes:\n",
    "Dyn_MFA_System.ProcessList"
   ]
  },
  {
   "cell_type": "code",
   "execution_count": 6,
   "metadata": {
    "ExecuteTime": {
     "end_time": "2023-06-26T10:49:28.205680Z",
     "start_time": "2023-06-26T10:49:28.132686200Z"
    }
   },
   "outputs": [],
   "source": [
    "ParameterDict = {}\n",
    "\n",
    "# Define parameter Inflow (D) with indices 'te' (years x element) and matching time series Values (array with size 31 x 1).\n",
    "# In a more advanced setup the parameters are defined in a data template and then read into the software.\n",
    "ParameterDict['D']  = msc.Parameter(Name = 'Inflow',        ID = 1, P_Res = 1, MetaData = None, Indices = 'te', Values= np.arange(0,31).reshape(31,1), Unit = 'Mt/yr')\n",
    "\n",
    "# Define parameter Recovery rate (alpha) with indices 'te' (years x element) and matching time series Values(array with size 31 x 1).\n",
    "# In a more advanced setup the parameters are defined in a data template and then read into the software.\n",
    "ParameterDict['alpha'] = msc.Parameter(Name = 'Recovery rate', ID = 2, P_Res = 2, MetaData = None, Indices = 'te', Values= np.arange(2,33).reshape(31,1)/34, Unit = '1')\n",
    "\n",
    "# Assign parameter dictionary to MFA system:\n",
    "Dyn_MFA_System.ParameterDict = ParameterDict"
   ]
  },
  {
   "cell_type": "code",
   "execution_count": 7,
   "metadata": {
    "ExecuteTime": {
     "end_time": "2023-06-26T10:49:28.228680100Z",
     "start_time": "2023-06-26T10:49:28.145685100Z"
    }
   },
   "outputs": [],
   "source": [
    "# Define the four flows a,b,c,d of the system, and initialise their values:\n",
    "Dyn_MFA_System.FlowDict['a'] = msc.Flow(Name = 'Input'              , P_Start = 0, P_End = 1, Indices = 't,e', Values=None)\n",
    "Dyn_MFA_System.FlowDict['b'] = msc.Flow(Name = 'Consumption'        , P_Start = 1, P_End = 2, Indices = 't,e', Values=None)\n",
    "Dyn_MFA_System.FlowDict['c'] = msc.Flow(Name = 'Output'             , P_Start = 2, P_End = 0, Indices = 't,e', Values=None)\n",
    "Dyn_MFA_System.FlowDict['d'] = msc.Flow(Name = 'Recovered material' , P_Start = 2, P_End = 1, Indices = 't,e', Values=None)\n",
    "\n",
    "# Assign empty arrays to flows according to dimensions.\n",
    "Dyn_MFA_System.Initialize_FlowValues() "
   ]
  },
  {
   "cell_type": "code",
   "execution_count": 8,
   "metadata": {
    "ExecuteTime": {
     "end_time": "2023-06-26T10:49:28.268680Z",
     "start_time": "2023-06-26T10:49:28.161685900Z"
    }
   },
   "outputs": [
    {
     "data": {
      "text/plain": "(True, True, True)"
     },
     "execution_count": 8,
     "metadata": {},
     "output_type": "execute_result"
    }
   ],
   "source": [
    "# Check whether flow value arrays match their indices, etc. See method documentation.\n",
    "Dyn_MFA_System.Consistency_Check() "
   ]
  },
  {
   "cell_type": "markdown",
   "metadata": {},
   "source": [
    "### 4) Programming a solution of the MFA system\n",
    "Now the system definition is complete, and we can program the model solution:"
   ]
  },
  {
   "cell_type": "code",
   "execution_count": 9,
   "metadata": {
    "ExecuteTime": {
     "end_time": "2023-06-26T10:49:28.346677100Z",
     "start_time": "2023-06-26T10:49:28.179685300Z"
    }
   },
   "outputs": [],
   "source": [
    "Dyn_MFA_System.FlowDict['a'].Values = Dyn_MFA_System.ParameterDict['D'].Values\n",
    "Dyn_MFA_System.FlowDict['b'].Values = 1 / (1 - Dyn_MFA_System.ParameterDict['alpha'].Values) * \\\n",
    "    Dyn_MFA_System.ParameterDict['D'].Values\n",
    "Dyn_MFA_System.FlowDict['c'].Values = Dyn_MFA_System.ParameterDict['D'].Values\n",
    "Dyn_MFA_System.FlowDict['d'].Values = Dyn_MFA_System.ParameterDict['alpha'].Values / \\\n",
    "    (1 - Dyn_MFA_System.ParameterDict['alpha'].Values) * Dyn_MFA_System.ParameterDict['D'].Values"
   ]
  },
  {
   "cell_type": "markdown",
   "metadata": {},
   "source": [
    "### 5) Mass-balance-check, analyse, and store the model solution\n",
    "One major advantage of the ODYM system structure is that mass balance checks can be performed automatically using unit-tested routines without further programming need:"
   ]
  },
  {
   "cell_type": "code",
   "execution_count": 10,
   "metadata": {
    "ExecuteTime": {
     "end_time": "2023-06-26T10:49:28.365673200Z",
     "start_time": "2023-06-26T10:49:28.206682500Z"
    }
   },
   "outputs": [
    {
     "name": "stdout",
     "output_type": "stream",
     "text": [
      "(31, 3, 1)\n",
      "1.0044742815296104e-13\n"
     ]
    }
   ],
   "source": [
    "Bal = Dyn_MFA_System.MassBalance()\n",
    "print(Bal.shape) # dimensions of balance are: time step x process x chemical element\n",
    "print(np.abs(Bal).sum()) # reports the sum of all absolute balancing errors."
   ]
  },
  {
   "cell_type": "markdown",
   "metadata": {},
   "source": [
    "The ODYM mass balance array reports the balance for each chemical element, each year, and each process, including the system balance (process 0)."
   ]
  },
  {
   "cell_type": "code",
   "execution_count": 11,
   "metadata": {
    "ExecuteTime": {
     "end_time": "2023-06-26T10:49:28.454671400Z",
     "start_time": "2023-06-26T10:49:28.208680400Z"
    }
   },
   "outputs": [
    {
     "data": {
      "text/plain": "Text(0, 0.5, 'Flow a in Mt/yr')"
     },
     "execution_count": 11,
     "metadata": {},
     "output_type": "execute_result"
    },
    {
     "data": {
      "text/plain": "<Figure size 640x480 with 1 Axes>",
      "image/png": "[encoded data removed]"
     },
     "metadata": {},
     "output_type": "display_data"
    }
   ],
   "source": [
    "plt.set_loglevel(\"info\") \n",
    "fig, ax = plt.subplots()\n",
    "ax.plot(Dyn_MFA_System.IndexTable['Classification']['Time'].Items, Dyn_MFA_System.FlowDict['a'].Values)\n",
    "ax.set_ylabel('Flow a in Mt/yr', fontsize =16)"
   ]
  },
  {
   "cell_type": "code",
   "execution_count": 12,
   "metadata": {
    "ExecuteTime": {
     "end_time": "2023-06-26T10:49:28.560774900Z",
     "start_time": "2023-06-26T10:49:28.383677Z"
    }
   },
   "outputs": [
    {
     "data": {
      "text/plain": "Text(0, 0.5, 'Flow b in Mt/yr')"
     },
     "execution_count": 12,
     "metadata": {},
     "output_type": "execute_result"
    },
    {
     "data": {
      "text/plain": "<Figure size 640x480 with 1 Axes>",
      "image/png": "[encoded data removed]"
     },
     "metadata": {},
     "output_type": "display_data"
    }
   ],
   "source": [
    "plt.set_loglevel(\"info\") \n",
    "fig, ax = plt.subplots()\n",
    "ax.plot(Dyn_MFA_System.IndexTable['Classification']['Time'].Items, Dyn_MFA_System.FlowDict['b'].Values)\n",
    "ax.set_ylabel('Flow b in Mt/yr', fontsize =16)"
   ]
  },
  {
   "cell_type": "markdown",
   "metadata": {},
   "source": [
    "Save entire system: "
   ]
  },
  {
   "cell_type": "code",
   "execution_count": 13,
   "metadata": {
    "ExecuteTime": {
     "end_time": "2023-06-26T10:49:28.561773400Z",
     "start_time": "2023-06-26T10:49:28.507670400Z"
    }
   },
   "outputs": [],
   "source": [
    "pickle.dump({'MFATestSystem': Dyn_MFA_System}, open(\"Tutorial1_MFATestSystem.p\", \"wb\") )"
   ]
  }
 ],
 "metadata": {
  "kernelspec": {
   "display_name": "Python 3",
   "language": "python",
   "name": "python3"
  },
  "language_info": {
   "codemirror_mode": {
    "name": "ipython",
    "version": 3
   },
   "file_extension": ".py",
   "mimetype": "text/x-python",
   "name": "python",
   "nbconvert_exporter": "python",
   "pygments_lexer": "ipython3",
   "version": "3.8.8"
  }
 },
 "nbformat": 4,
 "nbformat_minor": 2
}
